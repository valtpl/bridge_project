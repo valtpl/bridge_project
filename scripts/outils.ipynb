{
 "cells": [
  {
   "cell_type": "markdown",
   "id": "4a495e99",
   "metadata": {},
   "source": [
    "# **Outils - Notebook d'Affichage et d'Analyse**\n",
    " \n",
    "\n",
    "Ce notebook est conçu pour aider à afficher et manipuler facilement vos fichiers de données, notamment les fichiers `.pkl`, et à visualiser les graphiques générés \n",
    "\n",
    "---\n",
    "\n",
    "### 1. Charger et afficher un fichier `.pkl`\n",
    "\n",
    "Pour charger un fichier `.pkl` contenant des données, et l'afficher de manière lisible.\n"
   ]
  },
  {
   "cell_type": "code",
   "execution_count": 15,
   "id": "36abef86",
   "metadata": {},
   "outputs": [
    {
     "data": {
      "text/html": [
       "<div>\n",
       "<style scoped>\n",
       "    .dataframe tbody tr th:only-of-type {\n",
       "        vertical-align: middle;\n",
       "    }\n",
       "\n",
       "    .dataframe tbody tr th {\n",
       "        vertical-align: top;\n",
       "    }\n",
       "\n",
       "    .dataframe thead th {\n",
       "        text-align: right;\n",
       "    }\n",
       "</style>\n",
       "<table border=\"1\" class=\"dataframe\">\n",
       "  <thead>\n",
       "    <tr style=\"text-align: right;\">\n",
       "      <th></th>\n",
       "      <th>Titre</th>\n",
       "      <th>Corps</th>\n",
       "      <th>Date</th>\n",
       "      <th>Corps_preprocessed</th>\n",
       "    </tr>\n",
       "  </thead>\n",
       "  <tbody>\n",
       "    <tr>\n",
       "      <th>21025</th>\n",
       "      <td>Mission d'étude sur les énergies marines renou...</td>\n",
       "      <td>SommaireSynthèse 5Recommandations 6Recommandat...</td>\n",
       "      <td>3 juin 2013</td>\n",
       "      <td>sommairesynthse recommandations recommandation...</td>\n",
       "    </tr>\n",
       "    <tr>\n",
       "      <th>6036</th>\n",
       "      <td>Eolienen mer: Macron annonce un énorme appel d...</td>\n",
       "      <td>L'actualité de mardi a été de nouveau marquée ...</td>\n",
       "      <td>28 novembre 2023</td>\n",
       "      <td>lactualit mardi a nouveau marque situation ban...</td>\n",
       "    </tr>\n",
       "    <tr>\n",
       "      <th>6103</th>\n",
       "      <td>Éolienoffshore: avis de fort coup de vent, ave...</td>\n",
       "      <td>La guerre menée par Israël contre le Hamas con...</td>\n",
       "      <td>22 novembre 2023</td>\n",
       "      <td>guerre mene isral contre hamas continue focali...</td>\n",
       "    </tr>\n",
       "  </tbody>\n",
       "</table>\n",
       "</div>"
      ],
      "text/plain": [
       "                                                   Titre  \\\n",
       "21025  Mission d'étude sur les énergies marines renou...   \n",
       "6036   Eolienen mer: Macron annonce un énorme appel d...   \n",
       "6103   Éolienoffshore: avis de fort coup de vent, ave...   \n",
       "\n",
       "                                                   Corps              Date  \\\n",
       "21025  SommaireSynthèse 5Recommandations 6Recommandat...       3 juin 2013   \n",
       "6036   L'actualité de mardi a été de nouveau marquée ...  28 novembre 2023   \n",
       "6103   La guerre menée par Israël contre le Hamas con...  22 novembre 2023   \n",
       "\n",
       "                                      Corps_preprocessed  \n",
       "21025  sommairesynthse recommandations recommandation...  \n",
       "6036   lactualit mardi a nouveau marque situation ban...  \n",
       "6103   guerre mene isral contre hamas continue focali...  "
      ]
     },
     "execution_count": 15,
     "metadata": {},
     "output_type": "execute_result"
    }
   ],
   "source": [
    "import pandas as pd\n",
    "\n",
    "# Changer par le chemin du fichier souhaité\n",
    "file_path = \"../data/relevant_articles/EOLIEN_relevant_articles.pkl\"\n",
    "file_to_display = pd.read_pickle(file_path)\n",
    "file_to_display.head(3)"
   ]
  },
  {
   "cell_type": "code",
   "execution_count": 8,
   "id": "b49941f5",
   "metadata": {},
   "outputs": [
    {
     "data": {
      "text/html": [
       "<div>\n",
       "<style scoped>\n",
       "    .dataframe tbody tr th:only-of-type {\n",
       "        vertical-align: middle;\n",
       "    }\n",
       "\n",
       "    .dataframe tbody tr th {\n",
       "        vertical-align: top;\n",
       "    }\n",
       "\n",
       "    .dataframe thead th {\n",
       "        text-align: right;\n",
       "    }\n",
       "</style>\n",
       "<table border=\"1\" class=\"dataframe\">\n",
       "  <thead>\n",
       "    <tr style=\"text-align: right;\">\n",
       "      <th></th>\n",
       "      <th>author</th>\n",
       "      <th>updated_at</th>\n",
       "      <th>like_count</th>\n",
       "      <th>text</th>\n",
       "      <th>video_id</th>\n",
       "      <th>public</th>\n",
       "      <th>title</th>\n",
       "      <th>video_published_at</th>\n",
       "    </tr>\n",
       "  </thead>\n",
       "  <tbody>\n",
       "    <tr>\n",
       "      <th>0</th>\n",
       "      <td>@adrienrivas5531</td>\n",
       "      <td>2024-03-11T21:23:25Z</td>\n",
       "      <td>1</td>\n",
       "      <td>👍👌👏🥼🌞💥☢️</td>\n",
       "      <td>H3QVkmEh-Fw</td>\n",
       "      <td>True</td>\n",
       "      <td>FUSION nucléaire - Équation et lois de conserv...</td>\n",
       "      <td>2020-04-15T08:42:23Z</td>\n",
       "    </tr>\n",
       "    <tr>\n",
       "      <th>1</th>\n",
       "      <td>@salkaghalawi6846</td>\n",
       "      <td>2023-11-08T20:50:36Z</td>\n",
       "      <td>3</td>\n",
       "      <td>mercii</td>\n",
       "      <td>H3QVkmEh-Fw</td>\n",
       "      <td>True</td>\n",
       "      <td>FUSION nucléaire - Équation et lois de conserv...</td>\n",
       "      <td>2020-04-15T08:42:23Z</td>\n",
       "    </tr>\n",
       "    <tr>\n",
       "      <th>2</th>\n",
       "      <td>@adrianakabebou8214</td>\n",
       "      <td>2022-09-19T07:35:34Z</td>\n",
       "      <td>2</td>\n",
       "      <td>Euh moi j'aurais pas dit comme ça mais c'est p...</td>\n",
       "      <td>H3QVkmEh-Fw</td>\n",
       "      <td>True</td>\n",
       "      <td>FUSION nucléaire - Équation et lois de conserv...</td>\n",
       "      <td>2020-04-15T08:42:23Z</td>\n",
       "    </tr>\n",
       "  </tbody>\n",
       "</table>\n",
       "</div>"
      ],
      "text/plain": [
       "                author            updated_at  like_count  \\\n",
       "0     @adrienrivas5531  2024-03-11T21:23:25Z           1   \n",
       "1    @salkaghalawi6846  2023-11-08T20:50:36Z           3   \n",
       "2  @adrianakabebou8214  2022-09-19T07:35:34Z           2   \n",
       "\n",
       "                                                text     video_id  public  \\\n",
       "0                                           👍👌👏🥼🌞💥☢️  H3QVkmEh-Fw    True   \n",
       "1                                             mercii  H3QVkmEh-Fw    True   \n",
       "2  Euh moi j'aurais pas dit comme ça mais c'est p...  H3QVkmEh-Fw    True   \n",
       "\n",
       "                                               title    video_published_at  \n",
       "0  FUSION nucléaire - Équation et lois de conserv...  2020-04-15T08:42:23Z  \n",
       "1  FUSION nucléaire - Équation et lois de conserv...  2020-04-15T08:42:23Z  \n",
       "2  FUSION nucléaire - Équation et lois de conserv...  2020-04-15T08:42:23Z  "
      ]
     },
     "execution_count": 8,
     "metadata": {},
     "output_type": "execute_result"
    }
   ],
   "source": [
    "# affichage des comm youtube \n",
    "file_path = \"../data/ytb_comments/fusion nucléaire_YTB_comments.pkl\"\n",
    "file_to_display = pd.read_pickle(file_path)\n",
    "file_to_display.head(3)"
   ]
  },
  {
   "cell_type": "markdown",
   "id": "bc40b9a0",
   "metadata": {},
   "source": []
  },
  {
   "cell_type": "markdown",
   "id": "16a34cb8",
   "metadata": {},
   "source": []
  }
 ],
 "metadata": {
  "kernelspec": {
   "display_name": "base",
   "language": "python",
   "name": "python3"
  },
  "language_info": {
   "codemirror_mode": {
    "name": "ipython",
    "version": 3
   },
   "file_extension": ".py",
   "mimetype": "text/x-python",
   "name": "python",
   "nbconvert_exporter": "python",
   "pygments_lexer": "ipython3",
   "version": "3.9.21"
  }
 },
 "nbformat": 4,
 "nbformat_minor": 5
}
